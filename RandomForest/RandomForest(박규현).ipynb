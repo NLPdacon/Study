{
  "nbformat": 4,
  "nbformat_minor": 0,
  "metadata": {
    "colab": {
      "name": "RandomForest(박규현).ipynb",
      "provenance": [],
      "collapsed_sections": []
    },
    "kernelspec": {
      "name": "python3",
      "display_name": "Python 3"
    },
    "language_info": {
      "name": "python"
    }
  },
  "cells": [
    {
      "cell_type": "markdown",
      "source": [
        "# RandomForest란?\n",
        "\n",
        "> 랜덤 포레스트는 대표적인 **배깅(bagging)** 방식 **앙상블 알고리즘**으로 여러 개의 트리(분류기)를 만들어 보팅으로 최종 클래스 값을 결정하는 알고리즘"
      ],
      "metadata": {
        "id": "iGmQEI9jW6Wo"
      }
    },
    {
      "cell_type": "markdown",
      "source": [
        "### 배깅(Bagging)이란?\n",
        "\n",
        " - **bootstrap aggregating**의 줄임말\n",
        "\n",
        " - 랜덤 샘플링을 통해 매번 다른 데이터로 트리를 학습 시키고 그것들을 집계하는 것"
      ],
      "metadata": {
        "id": "2GA2TxUQXuNF"
      }
    },
    {
      "cell_type": "markdown",
      "source": [
        "### Bagging의 알고리즘으로 유명한 Randomforest의 장점 ❣\n",
        "\n",
        "\n",
        "*   여러개의 decision tree를 형성하고 새로운 데이터 포인트를 각 트리에 동시에 통과시키며, 각 트리가 분류한 결과에서 투표를 실시하여 가장 많이 득표한 결과를 최종 분류 결과로 선택하는 방식\n",
        "\n",
        "* Decision Tree는 overfitting될 가능성이 높다는 약점을 가지지만 여러개의 Decision Tree를 사용하기 때문에 생성한 일부 트리는 overfitting될 수 있지만, 많은 수의 트리를 생성함으로써 overfitting이 예측하는데 있어 큰 영향을 미치지 못 하도록 예방\n",
        "\n"
      ],
      "metadata": {
        "id": "6SXeqCPJdpKY"
      }
    },
    {
      "cell_type": "markdown",
      "source": [
        "### 결정 트리(Decision Tree)란?\n",
        "\n",
        " - **분류(Classification)**와 **회귀(Regression)** 모두 가능한 지도 학습 모델 중 하나\n",
        "\n",
        " - 스무고개 하듯이 예/아니오 질문을 이어가며 학습\n",
        "\n",
        " - **특정 기준(질문)에 따라 데이터를 구분**하는 모델을 결정 트리 모델"
      ],
      "metadata": {
        "id": "aMNgX5vaqfGO"
      }
    },
    {
      "cell_type": "markdown",
      "source": [
        "![결정트리](https://blog.kakaocdn.net/dn/wlH1u/btqwWZI9Xen/kFJDjGSFJAPxhyatC3Xhs0/img.png)"
      ],
      "metadata": {
        "id": "kQMZ4SyM2au1"
      }
    },
    {
      "cell_type": "markdown",
      "source": [
        "### 불순도\n",
        "\n",
        " - 결정트리에서 **분기기준을 선택**하기 위해서는 불순도 사용\n",
        "\n",
        "   - 복잡성을 의미하며, 해당 범주 안에 서로 다른 데이터가 얼마나 섞여 있는지를 의미\n",
        "\n",
        "  - 다양한 개체들이 섞여 있을수록 불순도가 높아짐"
      ],
      "metadata": {
        "id": "dKV1MBLb3Hug"
      }
    },
    {
      "cell_type": "markdown",
      "source": [
        ""
      ],
      "metadata": {
        "id": "M9dYQ09J3dwh"
      }
    }
  ]
}